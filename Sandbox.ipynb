{
 "cells": [
  {
   "cell_type": "code",
   "execution_count": 1,
   "metadata": {},
   "outputs": [],
   "source": [
    "# Pandas, numpy and matplotlib\n",
    "import pandas as pd\n",
    "import numpy as np\n",
    "import matplotlib.pyplot as plt\n",
    "\n",
    "# Regular expressions and string manipulation (we don't use string in this one)\n",
    "import re\n",
    "import string\n",
    "\n",
    "# File management\n",
    "import os\n",
    "from collections import defaultdict\n",
    "\n",
    "# NLTK functions for generating the corpus\n",
    "import nltk\n",
    "from nltk.corpus import PlaintextCorpusReader\n",
    "\n",
    "# Custom functions to handle data\n",
    "from Met_utils import *"
   ]
  },
  {
   "cell_type": "code",
   "execution_count": 2,
   "metadata": {},
   "outputs": [],
   "source": [
    "# Importing raw data\n",
    "metData = MetData(\"MetObjects.csv\")"
   ]
  },
  {
   "cell_type": "code",
   "execution_count": 3,
   "metadata": {},
   "outputs": [
    {
     "data": {
      "text/html": [
       "<div>\n",
       "<style scoped>\n",
       "    .dataframe tbody tr th:only-of-type {\n",
       "        vertical-align: middle;\n",
       "    }\n",
       "\n",
       "    .dataframe tbody tr th {\n",
       "        vertical-align: top;\n",
       "    }\n",
       "\n",
       "    .dataframe thead th {\n",
       "        text-align: right;\n",
       "    }\n",
       "</style>\n",
       "<table border=\"1\" class=\"dataframe\">\n",
       "  <thead>\n",
       "    <tr style=\"text-align: right;\">\n",
       "      <th></th>\n",
       "      <th>Object Number</th>\n",
       "      <th>Is Highlight</th>\n",
       "      <th>Is Public Domain</th>\n",
       "      <th>Object ID</th>\n",
       "      <th>Department</th>\n",
       "      <th>Object Name</th>\n",
       "      <th>Title</th>\n",
       "      <th>Culture</th>\n",
       "      <th>Period</th>\n",
       "      <th>Dynasty</th>\n",
       "      <th>...</th>\n",
       "      <th>Subregion</th>\n",
       "      <th>Locale</th>\n",
       "      <th>Locus</th>\n",
       "      <th>Excavation</th>\n",
       "      <th>River</th>\n",
       "      <th>Classification</th>\n",
       "      <th>Rights and Reproduction</th>\n",
       "      <th>Link Resource</th>\n",
       "      <th>Metadata Date</th>\n",
       "      <th>Repository</th>\n",
       "    </tr>\n",
       "  </thead>\n",
       "  <tbody>\n",
       "    <tr>\n",
       "      <th>0</th>\n",
       "      <td>1979.486.1</td>\n",
       "      <td>False</td>\n",
       "      <td>False</td>\n",
       "      <td>1</td>\n",
       "      <td>American Decorative Arts</td>\n",
       "      <td>Coin</td>\n",
       "      <td>One-dollar Liberty Head Coin</td>\n",
       "      <td>NaN</td>\n",
       "      <td>NaN</td>\n",
       "      <td>NaN</td>\n",
       "      <td>...</td>\n",
       "      <td>NaN</td>\n",
       "      <td>NaN</td>\n",
       "      <td>NaN</td>\n",
       "      <td>NaN</td>\n",
       "      <td>NaN</td>\n",
       "      <td>Metal</td>\n",
       "      <td>NaN</td>\n",
       "      <td>http://www.metmuseum.org/art/collection/search/1</td>\n",
       "      <td>11/26/2018 8:00:04 AM</td>\n",
       "      <td>Metropolitan Museum of Art, New York, NY</td>\n",
       "    </tr>\n",
       "    <tr>\n",
       "      <th>1</th>\n",
       "      <td>1980.264.5</td>\n",
       "      <td>False</td>\n",
       "      <td>False</td>\n",
       "      <td>2</td>\n",
       "      <td>American Decorative Arts</td>\n",
       "      <td>Coin</td>\n",
       "      <td>Ten-dollar Liberty Head Coin</td>\n",
       "      <td>NaN</td>\n",
       "      <td>NaN</td>\n",
       "      <td>NaN</td>\n",
       "      <td>...</td>\n",
       "      <td>NaN</td>\n",
       "      <td>NaN</td>\n",
       "      <td>NaN</td>\n",
       "      <td>NaN</td>\n",
       "      <td>NaN</td>\n",
       "      <td>Metal</td>\n",
       "      <td>NaN</td>\n",
       "      <td>http://www.metmuseum.org/art/collection/search/2</td>\n",
       "      <td>11/26/2018 8:00:04 AM</td>\n",
       "      <td>Metropolitan Museum of Art, New York, NY</td>\n",
       "    </tr>\n",
       "    <tr>\n",
       "      <th>2</th>\n",
       "      <td>67.265.9</td>\n",
       "      <td>False</td>\n",
       "      <td>False</td>\n",
       "      <td>3</td>\n",
       "      <td>American Decorative Arts</td>\n",
       "      <td>Coin</td>\n",
       "      <td>Two-and-a-Half Dollar Coin</td>\n",
       "      <td>NaN</td>\n",
       "      <td>NaN</td>\n",
       "      <td>NaN</td>\n",
       "      <td>...</td>\n",
       "      <td>NaN</td>\n",
       "      <td>NaN</td>\n",
       "      <td>NaN</td>\n",
       "      <td>NaN</td>\n",
       "      <td>NaN</td>\n",
       "      <td>Metal</td>\n",
       "      <td>NaN</td>\n",
       "      <td>http://www.metmuseum.org/art/collection/search/3</td>\n",
       "      <td>11/26/2018 8:00:04 AM</td>\n",
       "      <td>Metropolitan Museum of Art, New York, NY</td>\n",
       "    </tr>\n",
       "    <tr>\n",
       "      <th>3</th>\n",
       "      <td>67.265.10</td>\n",
       "      <td>False</td>\n",
       "      <td>False</td>\n",
       "      <td>4</td>\n",
       "      <td>American Decorative Arts</td>\n",
       "      <td>Coin</td>\n",
       "      <td>Two-and-a-Half Dollar Coin</td>\n",
       "      <td>NaN</td>\n",
       "      <td>NaN</td>\n",
       "      <td>NaN</td>\n",
       "      <td>...</td>\n",
       "      <td>NaN</td>\n",
       "      <td>NaN</td>\n",
       "      <td>NaN</td>\n",
       "      <td>NaN</td>\n",
       "      <td>NaN</td>\n",
       "      <td>Metal</td>\n",
       "      <td>NaN</td>\n",
       "      <td>http://www.metmuseum.org/art/collection/search/4</td>\n",
       "      <td>11/26/2018 8:00:04 AM</td>\n",
       "      <td>Metropolitan Museum of Art, New York, NY</td>\n",
       "    </tr>\n",
       "    <tr>\n",
       "      <th>4</th>\n",
       "      <td>67.265.11</td>\n",
       "      <td>False</td>\n",
       "      <td>False</td>\n",
       "      <td>5</td>\n",
       "      <td>American Decorative Arts</td>\n",
       "      <td>Coin</td>\n",
       "      <td>Two-and-a-Half Dollar Coin</td>\n",
       "      <td>NaN</td>\n",
       "      <td>NaN</td>\n",
       "      <td>NaN</td>\n",
       "      <td>...</td>\n",
       "      <td>NaN</td>\n",
       "      <td>NaN</td>\n",
       "      <td>NaN</td>\n",
       "      <td>NaN</td>\n",
       "      <td>NaN</td>\n",
       "      <td>Metal</td>\n",
       "      <td>NaN</td>\n",
       "      <td>http://www.metmuseum.org/art/collection/search/5</td>\n",
       "      <td>11/26/2018 8:00:04 AM</td>\n",
       "      <td>Metropolitan Museum of Art, New York, NY</td>\n",
       "    </tr>\n",
       "  </tbody>\n",
       "</table>\n",
       "<p>5 rows × 43 columns</p>\n",
       "</div>"
      ],
      "text/plain": [
       "  Object Number  Is Highlight  Is Public Domain  Object ID  \\\n",
       "0    1979.486.1         False             False          1   \n",
       "1    1980.264.5         False             False          2   \n",
       "2      67.265.9         False             False          3   \n",
       "3     67.265.10         False             False          4   \n",
       "4     67.265.11         False             False          5   \n",
       "\n",
       "                 Department Object Name                         Title Culture  \\\n",
       "0  American Decorative Arts        Coin  One-dollar Liberty Head Coin     NaN   \n",
       "1  American Decorative Arts        Coin  Ten-dollar Liberty Head Coin     NaN   \n",
       "2  American Decorative Arts        Coin    Two-and-a-Half Dollar Coin     NaN   \n",
       "3  American Decorative Arts        Coin    Two-and-a-Half Dollar Coin     NaN   \n",
       "4  American Decorative Arts        Coin    Two-and-a-Half Dollar Coin     NaN   \n",
       "\n",
       "  Period Dynasty  ... Subregion Locale Locus Excavation River Classification  \\\n",
       "0    NaN     NaN  ...       NaN    NaN   NaN        NaN   NaN          Metal   \n",
       "1    NaN     NaN  ...       NaN    NaN   NaN        NaN   NaN          Metal   \n",
       "2    NaN     NaN  ...       NaN    NaN   NaN        NaN   NaN          Metal   \n",
       "3    NaN     NaN  ...       NaN    NaN   NaN        NaN   NaN          Metal   \n",
       "4    NaN     NaN  ...       NaN    NaN   NaN        NaN   NaN          Metal   \n",
       "\n",
       "  Rights and Reproduction                                     Link Resource  \\\n",
       "0                     NaN  http://www.metmuseum.org/art/collection/search/1   \n",
       "1                     NaN  http://www.metmuseum.org/art/collection/search/2   \n",
       "2                     NaN  http://www.metmuseum.org/art/collection/search/3   \n",
       "3                     NaN  http://www.metmuseum.org/art/collection/search/4   \n",
       "4                     NaN  http://www.metmuseum.org/art/collection/search/5   \n",
       "\n",
       "           Metadata Date                                Repository  \n",
       "0  11/26/2018 8:00:04 AM  Metropolitan Museum of Art, New York, NY  \n",
       "1  11/26/2018 8:00:04 AM  Metropolitan Museum of Art, New York, NY  \n",
       "2  11/26/2018 8:00:04 AM  Metropolitan Museum of Art, New York, NY  \n",
       "3  11/26/2018 8:00:04 AM  Metropolitan Museum of Art, New York, NY  \n",
       "4  11/26/2018 8:00:04 AM  Metropolitan Museum of Art, New York, NY  \n",
       "\n",
       "[5 rows x 43 columns]"
      ]
     },
     "execution_count": 3,
     "metadata": {},
     "output_type": "execute_result"
    }
   ],
   "source": [
    "# Looking at the first few entries\n",
    "metData.data.head()"
   ]
  },
  {
   "cell_type": "code",
   "execution_count": 4,
   "metadata": {},
   "outputs": [
    {
     "data": {
      "text/plain": [
       "(472669, 43)"
      ]
     },
     "execution_count": 4,
     "metadata": {},
     "output_type": "execute_result"
    }
   ],
   "source": [
    "metData.data.shape"
   ]
  },
  {
   "cell_type": "code",
   "execution_count": 5,
   "metadata": {},
   "outputs": [
    {
     "data": {
      "text/plain": [
       "'American Decorative Arts One-dollar Liberty Head Coin'"
      ]
     },
     "execution_count": 5,
     "metadata": {},
     "output_type": "execute_result"
    }
   ],
   "source": [
    "(metData.data['Department'] + ' ' + metData.data['Title']).loc[0]"
   ]
  },
  {
   "cell_type": "code",
   "execution_count": 6,
   "metadata": {},
   "outputs": [
    {
     "data": {
      "text/html": [
       "<div>\n",
       "<style scoped>\n",
       "    .dataframe tbody tr th:only-of-type {\n",
       "        vertical-align: middle;\n",
       "    }\n",
       "\n",
       "    .dataframe tbody tr th {\n",
       "        vertical-align: top;\n",
       "    }\n",
       "\n",
       "    .dataframe thead th {\n",
       "        text-align: right;\n",
       "    }\n",
       "</style>\n",
       "<table border=\"1\" class=\"dataframe\">\n",
       "  <thead>\n",
       "    <tr style=\"text-align: right;\">\n",
       "      <th></th>\n",
       "      <th>Object Number</th>\n",
       "      <th>Is Highlight</th>\n",
       "      <th>Is Public Domain</th>\n",
       "      <th>Object ID</th>\n",
       "      <th>Department</th>\n",
       "      <th>Object Name</th>\n",
       "      <th>Title</th>\n",
       "      <th>Culture</th>\n",
       "      <th>Period</th>\n",
       "      <th>Dynasty</th>\n",
       "      <th>...</th>\n",
       "      <th>Subregion</th>\n",
       "      <th>Locale</th>\n",
       "      <th>Locus</th>\n",
       "      <th>Excavation</th>\n",
       "      <th>River</th>\n",
       "      <th>Classification</th>\n",
       "      <th>Rights and Reproduction</th>\n",
       "      <th>Link Resource</th>\n",
       "      <th>Metadata Date</th>\n",
       "      <th>Repository</th>\n",
       "    </tr>\n",
       "  </thead>\n",
       "  <tbody>\n",
       "    <tr>\n",
       "      <th>30651</th>\n",
       "      <td>96.14.193</td>\n",
       "      <td>False</td>\n",
       "      <td>True</td>\n",
       "      <td>35966</td>\n",
       "      <td>Asian Art</td>\n",
       "      <td>Piece</td>\n",
       "      <td>NaN</td>\n",
       "      <td>Japan</td>\n",
       "      <td>Edo period (1615–1868)</td>\n",
       "      <td>NaN</td>\n",
       "      <td>...</td>\n",
       "      <td>NaN</td>\n",
       "      <td>NaN</td>\n",
       "      <td>NaN</td>\n",
       "      <td>NaN</td>\n",
       "      <td>NaN</td>\n",
       "      <td>Leatherwork</td>\n",
       "      <td>NaN</td>\n",
       "      <td>http://www.metmuseum.org/art/collection/search...</td>\n",
       "      <td>11/26/2018 8:00:04 AM</td>\n",
       "      <td>Metropolitan Museum of Art, New York, NY</td>\n",
       "    </tr>\n",
       "    <tr>\n",
       "      <th>30652</th>\n",
       "      <td>96.14.1896</td>\n",
       "      <td>False</td>\n",
       "      <td>True</td>\n",
       "      <td>35967</td>\n",
       "      <td>Asian Art</td>\n",
       "      <td>Panel</td>\n",
       "      <td>NaN</td>\n",
       "      <td>China</td>\n",
       "      <td>NaN</td>\n",
       "      <td>NaN</td>\n",
       "      <td>...</td>\n",
       "      <td>NaN</td>\n",
       "      <td>NaN</td>\n",
       "      <td>NaN</td>\n",
       "      <td>NaN</td>\n",
       "      <td>NaN</td>\n",
       "      <td>Leatherwork</td>\n",
       "      <td>NaN</td>\n",
       "      <td>http://www.metmuseum.org/art/collection/search...</td>\n",
       "      <td>11/26/2018 8:00:04 AM</td>\n",
       "      <td>Metropolitan Museum of Art, New York, NY</td>\n",
       "    </tr>\n",
       "    <tr>\n",
       "      <th>30653</th>\n",
       "      <td>09.3</td>\n",
       "      <td>False</td>\n",
       "      <td>True</td>\n",
       "      <td>35968</td>\n",
       "      <td>Asian Art</td>\n",
       "      <td>Wall hanging</td>\n",
       "      <td>清  佚名  台南地區荷蘭城堡\\t|Forts Zeelandia and Provinti...</td>\n",
       "      <td>China</td>\n",
       "      <td>NaN</td>\n",
       "      <td>NaN</td>\n",
       "      <td>...</td>\n",
       "      <td>NaN</td>\n",
       "      <td>NaN</td>\n",
       "      <td>NaN</td>\n",
       "      <td>NaN</td>\n",
       "      <td>NaN</td>\n",
       "      <td>Paintings</td>\n",
       "      <td>NaN</td>\n",
       "      <td>http://www.metmuseum.org/art/collection/search...</td>\n",
       "      <td>11/26/2018 8:00:04 AM</td>\n",
       "      <td>Metropolitan Museum of Art, New York, NY</td>\n",
       "    </tr>\n",
       "    <tr>\n",
       "      <th>30654</th>\n",
       "      <td>12.37.135</td>\n",
       "      <td>False</td>\n",
       "      <td>False</td>\n",
       "      <td>35969</td>\n",
       "      <td>Asian Art</td>\n",
       "      <td>Hanging scroll</td>\n",
       "      <td>NaN</td>\n",
       "      <td>China</td>\n",
       "      <td>Qing dynasty (1644–1911)</td>\n",
       "      <td>NaN</td>\n",
       "      <td>...</td>\n",
       "      <td>NaN</td>\n",
       "      <td>NaN</td>\n",
       "      <td>NaN</td>\n",
       "      <td>NaN</td>\n",
       "      <td>NaN</td>\n",
       "      <td>Paintings</td>\n",
       "      <td>NaN</td>\n",
       "      <td>http://www.metmuseum.org/art/collection/search...</td>\n",
       "      <td>11/26/2018 8:00:04 AM</td>\n",
       "      <td>Metropolitan Museum of Art, New York, NY</td>\n",
       "    </tr>\n",
       "    <tr>\n",
       "      <th>30655</th>\n",
       "      <td>13.100.22</td>\n",
       "      <td>False</td>\n",
       "      <td>True</td>\n",
       "      <td>35970</td>\n",
       "      <td>Asian Art</td>\n",
       "      <td>Hanging scroll</td>\n",
       "      <td>明   丁雲鵬   潯陽送客圖   軸|Song of the Lute</td>\n",
       "      <td>China</td>\n",
       "      <td>late Ming dynasty (1368–1644)</td>\n",
       "      <td>NaN</td>\n",
       "      <td>...</td>\n",
       "      <td>NaN</td>\n",
       "      <td>NaN</td>\n",
       "      <td>NaN</td>\n",
       "      <td>NaN</td>\n",
       "      <td>NaN</td>\n",
       "      <td>Paintings</td>\n",
       "      <td>NaN</td>\n",
       "      <td>http://www.metmuseum.org/art/collection/search...</td>\n",
       "      <td>11/26/2018 8:00:04 AM</td>\n",
       "      <td>Metropolitan Museum of Art, New York, NY</td>\n",
       "    </tr>\n",
       "  </tbody>\n",
       "</table>\n",
       "<p>5 rows × 43 columns</p>\n",
       "</div>"
      ],
      "text/plain": [
       "      Object Number  Is Highlight  Is Public Domain  Object ID Department  \\\n",
       "30651     96.14.193         False              True      35966  Asian Art   \n",
       "30652    96.14.1896         False              True      35967  Asian Art   \n",
       "30653          09.3         False              True      35968  Asian Art   \n",
       "30654     12.37.135         False             False      35969  Asian Art   \n",
       "30655     13.100.22         False              True      35970  Asian Art   \n",
       "\n",
       "          Object Name                                              Title  \\\n",
       "30651           Piece                                                NaN   \n",
       "30652           Panel                                                NaN   \n",
       "30653    Wall hanging  清  佚名  台南地區荷蘭城堡\\t|Forts Zeelandia and Provinti...   \n",
       "30654  Hanging scroll                                                NaN   \n",
       "30655  Hanging scroll               明   丁雲鵬   潯陽送客圖   軸|Song of the Lute   \n",
       "\n",
       "      Culture                         Period Dynasty  ... Subregion Locale  \\\n",
       "30651   Japan         Edo period (1615–1868)     NaN  ...       NaN    NaN   \n",
       "30652   China                            NaN     NaN  ...       NaN    NaN   \n",
       "30653   China                            NaN     NaN  ...       NaN    NaN   \n",
       "30654   China       Qing dynasty (1644–1911)     NaN  ...       NaN    NaN   \n",
       "30655   China  late Ming dynasty (1368–1644)     NaN  ...       NaN    NaN   \n",
       "\n",
       "      Locus Excavation River Classification Rights and Reproduction  \\\n",
       "30651   NaN        NaN   NaN    Leatherwork                     NaN   \n",
       "30652   NaN        NaN   NaN    Leatherwork                     NaN   \n",
       "30653   NaN        NaN   NaN      Paintings                     NaN   \n",
       "30654   NaN        NaN   NaN      Paintings                     NaN   \n",
       "30655   NaN        NaN   NaN      Paintings                     NaN   \n",
       "\n",
       "                                           Link Resource  \\\n",
       "30651  http://www.metmuseum.org/art/collection/search...   \n",
       "30652  http://www.metmuseum.org/art/collection/search...   \n",
       "30653  http://www.metmuseum.org/art/collection/search...   \n",
       "30654  http://www.metmuseum.org/art/collection/search...   \n",
       "30655  http://www.metmuseum.org/art/collection/search...   \n",
       "\n",
       "               Metadata Date                                Repository  \n",
       "30651  11/26/2018 8:00:04 AM  Metropolitan Museum of Art, New York, NY  \n",
       "30652  11/26/2018 8:00:04 AM  Metropolitan Museum of Art, New York, NY  \n",
       "30653  11/26/2018 8:00:04 AM  Metropolitan Museum of Art, New York, NY  \n",
       "30654  11/26/2018 8:00:04 AM  Metropolitan Museum of Art, New York, NY  \n",
       "30655  11/26/2018 8:00:04 AM  Metropolitan Museum of Art, New York, NY  \n",
       "\n",
       "[5 rows x 43 columns]"
      ]
     },
     "execution_count": 6,
     "metadata": {},
     "output_type": "execute_result"
    }
   ],
   "source": [
    "metData.filter_dep(5).head()"
   ]
  },
  {
   "cell_type": "code",
   "execution_count": 7,
   "metadata": {},
   "outputs": [
    {
     "data": {
      "text/plain": [
       "['American Decorative Arts',\n",
       " 'European Sculpture and Decorative Arts',\n",
       " 'Modern and Contemporary Art',\n",
       " 'Arms and Armor',\n",
       " 'Medieval Art',\n",
       " 'Asian Art',\n",
       " 'Costume Institute',\n",
       " 'Islamic Art',\n",
       " 'Arts of Africa, Oceania, and the Americas',\n",
       " 'Drawings and Prints',\n",
       " 'Greek and Roman Art',\n",
       " 'Photographs',\n",
       " 'Ancient Near Eastern Art',\n",
       " 'European Paintings',\n",
       " 'Robert Lehman Collection',\n",
       " 'The Cloisters',\n",
       " 'Musical Instruments',\n",
       " 'Egyptian Art',\n",
       " 'The Libraries']"
      ]
     },
     "execution_count": 7,
     "metadata": {},
     "output_type": "execute_result"
    }
   ],
   "source": [
    "metData.depts"
   ]
  },
  {
   "cell_type": "code",
   "execution_count": 8,
   "metadata": {},
   "outputs": [
    {
     "name": "stdout",
     "output_type": "stream",
     "text": [
      "['Asian Art', 'Costume Institute', 'Photographs', 'Musical Instruments', 'Egyptian Art']\n"
     ]
    }
   ],
   "source": [
    "# Choosing the different department\n",
    "depts_indices = [5, 6, 11, 16, 17]\n",
    "depts_list = [metData.depts[n] for n in depts_indices]\n",
    "print(depts_list)"
   ]
  },
  {
   "cell_type": "code",
   "execution_count": 9,
   "metadata": {},
   "outputs": [],
   "source": [
    "# Feature selection\n",
    "feature_cols = ['Object Name', 'Title', 'Artist Display Name',\n",
    "                       'Medium', 'Classification', 'Credit Line']"
   ]
  },
  {
   "cell_type": "code",
   "execution_count": 10,
   "metadata": {},
   "outputs": [],
   "source": [
    "textData = metData.gather_text(feature_cols)"
   ]
  },
  {
   "cell_type": "code",
   "execution_count": 11,
   "metadata": {},
   "outputs": [],
   "source": [
    "# List of punctuation and stop words to be removed from the corpus\n",
    "useless_words = nltk.corpus.stopwords.words(\"english\") \\\n",
    "                + list(string.punctuation)"
   ]
  },
  {
   "cell_type": "code",
   "execution_count": 12,
   "metadata": {},
   "outputs": [
    {
     "data": {
      "text/plain": [
       "['Coin',\n",
       " 'One',\n",
       " 'dollar',\n",
       " 'Liberty',\n",
       " 'Head',\n",
       " 'Coin',\n",
       " 'James',\n",
       " 'Barton',\n",
       " 'Longacre',\n",
       " 'Gold',\n",
       " 'Metal',\n",
       " 'Gift',\n",
       " 'Heinz',\n",
       " 'L',\n",
       " 'Stoppelmann',\n",
       " '1979']"
      ]
     },
     "execution_count": 12,
     "metadata": {},
     "output_type": "execute_result"
    }
   ],
   "source": [
    "[w for w in re.sub(r'[,.;@#?!&$-]+', ' ', textData['text'].iloc[0]).split() if w not in useless_words]"
   ]
  },
  {
   "cell_type": "code",
   "execution_count": 13,
   "metadata": {},
   "outputs": [],
   "source": [
    "def generate_word_list(text, useless_words=useless_words):\n",
    "    if text == None:\n",
    "        return None\n",
    "    \n",
    "    else:\n",
    "        word_list = re.sub(r'[,.;@#?!&$-]+', ' ', text).split()\n",
    "    \n",
    "        return [w for w in word_list if w not in useless_words]"
   ]
  },
  {
   "cell_type": "code",
   "execution_count": 17,
   "metadata": {},
   "outputs": [],
   "source": [
    "textData['text list'] = textData['text'].apply(lambda x: generate_word_list(x))"
   ]
  },
  {
   "cell_type": "code",
   "execution_count": 18,
   "metadata": {},
   "outputs": [
    {
     "data": {
      "text/html": [
       "<div>\n",
       "<style scoped>\n",
       "    .dataframe tbody tr th:only-of-type {\n",
       "        vertical-align: middle;\n",
       "    }\n",
       "\n",
       "    .dataframe tbody tr th {\n",
       "        vertical-align: top;\n",
       "    }\n",
       "\n",
       "    .dataframe thead th {\n",
       "        text-align: right;\n",
       "    }\n",
       "</style>\n",
       "<table border=\"1\" class=\"dataframe\">\n",
       "  <thead>\n",
       "    <tr style=\"text-align: right;\">\n",
       "      <th></th>\n",
       "      <th>Object ID</th>\n",
       "      <th>text</th>\n",
       "      <th>text list</th>\n",
       "    </tr>\n",
       "  </thead>\n",
       "  <tbody>\n",
       "    <tr>\n",
       "      <th>0</th>\n",
       "      <td>1</td>\n",
       "      <td>Coin One-dollar Liberty Head Coin James Barto...</td>\n",
       "      <td>[Coin, One, dollar, Liberty, Head, Coin, James...</td>\n",
       "    </tr>\n",
       "    <tr>\n",
       "      <th>1</th>\n",
       "      <td>2</td>\n",
       "      <td>Coin Ten-dollar Liberty Head Coin Christian G...</td>\n",
       "      <td>[Coin, Ten, dollar, Liberty, Head, Coin, Chris...</td>\n",
       "    </tr>\n",
       "    <tr>\n",
       "      <th>2</th>\n",
       "      <td>3</td>\n",
       "      <td>Coin Two-and-a-Half Dollar Coin  Gold Metal G...</td>\n",
       "      <td>[Coin, Two, Half, Dollar, Coin, Gold, Metal, G...</td>\n",
       "    </tr>\n",
       "    <tr>\n",
       "      <th>3</th>\n",
       "      <td>4</td>\n",
       "      <td>Coin Two-and-a-Half Dollar Coin  Gold Metal G...</td>\n",
       "      <td>[Coin, Two, Half, Dollar, Coin, Gold, Metal, G...</td>\n",
       "    </tr>\n",
       "    <tr>\n",
       "      <th>4</th>\n",
       "      <td>5</td>\n",
       "      <td>Coin Two-and-a-Half Dollar Coin  Gold Metal G...</td>\n",
       "      <td>[Coin, Two, Half, Dollar, Coin, Gold, Metal, G...</td>\n",
       "    </tr>\n",
       "  </tbody>\n",
       "</table>\n",
       "</div>"
      ],
      "text/plain": [
       "   Object ID                                               text  \\\n",
       "0          1   Coin One-dollar Liberty Head Coin James Barto...   \n",
       "1          2   Coin Ten-dollar Liberty Head Coin Christian G...   \n",
       "2          3   Coin Two-and-a-Half Dollar Coin  Gold Metal G...   \n",
       "3          4   Coin Two-and-a-Half Dollar Coin  Gold Metal G...   \n",
       "4          5   Coin Two-and-a-Half Dollar Coin  Gold Metal G...   \n",
       "\n",
       "                                           text list  \n",
       "0  [Coin, One, dollar, Liberty, Head, Coin, James...  \n",
       "1  [Coin, Ten, dollar, Liberty, Head, Coin, Chris...  \n",
       "2  [Coin, Two, Half, Dollar, Coin, Gold, Metal, G...  \n",
       "3  [Coin, Two, Half, Dollar, Coin, Gold, Metal, G...  \n",
       "4  [Coin, Two, Half, Dollar, Coin, Gold, Metal, G...  "
      ]
     },
     "execution_count": 18,
     "metadata": {},
     "output_type": "execute_result"
    }
   ],
   "source": [
    "textData.head()"
   ]
  },
  {
   "cell_type": "code",
   "execution_count": 11,
   "metadata": {},
   "outputs": [
    {
     "data": {
      "text/plain": [
       "array([1, 2, 3, 4, 5])"
      ]
     },
     "execution_count": 11,
     "metadata": {},
     "output_type": "execute_result"
    }
   ],
   "source": [
    "test1 = np.array([1, 2, 3, 4, 5])\n",
    "test1"
   ]
  },
  {
   "cell_type": "code",
   "execution_count": 19,
   "metadata": {},
   "outputs": [
    {
     "name": "stdout",
     "output_type": "stream",
     "text": [
      "[0 1 2 3 4 5]\n"
     ]
    }
   ],
   "source": [
    "test2 = np.concatenate((np.array([0]), test1))\n",
    "print(test2)"
   ]
  },
  {
   "cell_type": "code",
   "execution_count": 21,
   "metadata": {},
   "outputs": [
    {
     "data": {
      "text/plain": [
       "array([0., 0., 0., 0., 0.])"
      ]
     },
     "execution_count": 21,
     "metadata": {},
     "output_type": "execute_result"
    }
   ],
   "source": [
    "test3 = np.zeros(5)\n",
    "test3"
   ]
  },
  {
   "cell_type": "code",
   "execution_count": null,
   "metadata": {},
   "outputs": [],
   "source": []
  }
 ],
 "metadata": {
  "kernelspec": {
   "display_name": "Python 3",
   "language": "python",
   "name": "python3"
  },
  "language_info": {
   "codemirror_mode": {
    "name": "ipython",
    "version": 3
   },
   "file_extension": ".py",
   "mimetype": "text/x-python",
   "name": "python",
   "nbconvert_exporter": "python",
   "pygments_lexer": "ipython3",
   "version": "3.7.6"
  }
 },
 "nbformat": 4,
 "nbformat_minor": 2
}
